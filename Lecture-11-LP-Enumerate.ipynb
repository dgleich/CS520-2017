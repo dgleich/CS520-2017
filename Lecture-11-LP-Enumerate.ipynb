{
 "cells": [
  {
   "cell_type": "code",
   "execution_count": 1,
   "metadata": {
    "collapsed": false
   },
   "outputs": [
    {
     "name": "stdout",
     "output_type": "stream",
     "text": [
      "(obj,inds,x) = (-13.0,[1,2,3],[3.0,5.0,3.0,0.0,0.0])\n",
      "(obj,inds,x) = (-9.0,[1,2,5],[1.0,4.0,0.0,0.0,2.0])\n",
      "(obj,inds,x) = (-3.0,[1,3,4],[3.0,0.0,8.0,10.0,0.0])\n",
      "(obj,inds,x) = (-4.0,[2,4,5],[0.0,2.0,0.0,3.0,3.0])\n",
      "(obj,inds,x) = (0.0,[3,4,5],[0.0,0.0,2.0,7.0,3.0])\n"
     ]
    }
   ],
   "source": [
    "# Let's give an algorithm to solve an LP by direct enumeration.\n",
    "using Combinatorics # for combinations\n",
    "\n",
    "# Check if a given point is a basic feasible point.\n",
    "function basic_feasible_point(A::Matrix,b::Vector,set::Vector)\n",
    "    m,n = size(A)\n",
    "    @assert length(set) == m \"need more indices to define a BFP\"\n",
    "    binds = set # basic variable indices\n",
    "    ninds = setdiff(1:size(A,1),binds) # non-basic\n",
    "    B = A[:,binds]\n",
    "    N = A[:,ninds]\n",
    "    #cb = c[binds]\n",
    "    #cn = c[ninds]\n",
    "    \n",
    "    if rank(B) != m\n",
    "        return (:Infeasible, 0)\n",
    "    end\n",
    "    \n",
    "    xb = B\\b\n",
    "    x = zeros(eltype(xb),n)\n",
    "    x[binds] = xb\n",
    "    x[ninds] = zero(eltype(xb))    \n",
    "    \n",
    "    if any(xb .< 0)\n",
    "        return (:Infeasible, x)\n",
    "    else\n",
    "        #lam = B'\\cb\n",
    "        #sn = cn - N'*lam\n",
    "        return (:Feasible, x)\n",
    "    end\n",
    "end\n",
    "\n",
    "function exhaustive_linprog(c::Vector, A::Matrix, b::Vector)\n",
    "    m,n = size(A)\n",
    "    for inds in combinations(1:n,m) # for all combinations\n",
    "        bfp = basic_feasible_point(A,b,inds)\n",
    "        if bfp[1] == :Feasible\n",
    "            # compute the objective\n",
    "            x = bfp[2]\n",
    "            obj = (c'*x)[1]\n",
    "            @show (obj, inds, x)\n",
    "        end\n",
    "    end\n",
    "end\n",
    "\n",
    "A1 = [-2.0 1; \n",
    "      -1 2; \n",
    "       1 0]\n",
    "b = [2.0; 7; 3]\n",
    "\n",
    "A = [A1 eye(3)] # form the problem with slacks.\n",
    "exhaustive_linprog([-1.0,-2.0,0.0,0.0,0.0],A,b)"
   ]
  }
 ],
 "metadata": {
  "kernelspec": {
   "display_name": "Julia 0.5.0",
   "language": "julia",
   "name": "julia-0.5"
  },
  "language_info": {
   "file_extension": ".jl",
   "mimetype": "application/julia",
   "name": "julia",
   "version": "0.5.0"
  }
 },
 "nbformat": 4,
 "nbformat_minor": 1
}
