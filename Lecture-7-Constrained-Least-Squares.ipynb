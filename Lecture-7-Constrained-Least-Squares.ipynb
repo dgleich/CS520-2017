{
 "cells": [
  {
   "cell_type": "code",
   "execution_count": 1,
   "metadata": {
    "collapsed": false
   },
   "outputs": [
    {
     "data": {
      "text/plain": [
       "conls"
      ]
     },
     "execution_count": 1,
     "metadata": {},
     "output_type": "execute_result"
    }
   ],
   "source": [
    "\"\"\"\n",
    "conls\n",
    "=====\n",
    "\n",
    "Solve a constrained least squares problem \n",
    "\n",
    "    conls(A,b,B,d) -> x \n",
    "\n",
    "solves \n",
    "\n",
    "   minimize     ||b - Ax||_2\n",
    "   subject to   Bx = d\n",
    "\n",
    "when B is p-by-n, p < n, and rank(B) = p, by using the QR factorization\n",
    "of B' to find a basis for the nullspace of B.\n",
    "\"\"\"\n",
    "function conls(A,b,B,d)\n",
    "    m,n = size(A)\n",
    "    p = size(B,1)\n",
    "    \n",
    "    @assert size(B,2) == n \"incompatible dimensions for A and B\"\n",
    "    \n",
    "    # Step 1, QR of B' to get the nullspace\n",
    "    qrf = qrfact(B')\n",
    "    R = qrf[:R]\n",
    "    @assert all(diag(R) != 0) \"B is not full-rank\"\n",
    "    \n",
    "    Q = full(qrf[:Q], thin=false)\n",
    "    Q1 = view(Q,:,1:p)     # view extracts a submatrix\n",
    "    Q2 = view(Q,:,(p+1):n) \n",
    "    \n",
    "    # form a solution\n",
    "    y = R'\\d\n",
    "    # solve the new LS problem\n",
    "    z = (A*Q2)\\(b-A*(Q1*y))\n",
    "    # recombine the solution\n",
    "    x = Q1*y + Q2*z\n",
    "    return x\n",
    "end"
   ]
  },
  {
   "cell_type": "code",
   "execution_count": 2,
   "metadata": {
    "collapsed": false
   },
   "outputs": [
    {
     "data": {
      "text/plain": [
       "5×1 Array{Float64,2}:\n",
       " -24.6\n",
       "  18.4\n",
       "  -7.8\n",
       "  -3.2\n",
       "  18.2"
      ]
     },
     "execution_count": 2,
     "metadata": {},
     "output_type": "execute_result"
    }
   ],
   "source": [
    "teams = [\"duke\",\"miami\",\"unc\",\"uva\",\"vt\"]\n",
    "data = [ # team 1 team 2, team 1 pts, team 2 pts\n",
    "    1 2  7 52\n",
    "    1 3 21 24\n",
    "    1 4  7 38\n",
    "    1 5  0 45\n",
    "    2 3 34 16\n",
    "    2 4 25 17\n",
    "    2 5 27  7\n",
    "    3 4  7  5\n",
    "    3 5  3 30\n",
    "    4 5 14 52\n",
    "]\n",
    "ngames = size(data,1)\n",
    "nteams = length(teams)\n",
    "\n",
    "G = zeros(ngames, nteams)\n",
    "p = zeros(ngames, 1)\n",
    "\n",
    "for g=1:ngames\n",
    "    i = data[g,1]\n",
    "    j = data[g,2]\n",
    "    Si = data[g,3]\n",
    "    Sj = data[g,4]\n",
    "  \n",
    "    G[g,i] = 1\n",
    "    G[g,j] = -1\n",
    "    p[g] = Si - Sj\n",
    "end\n",
    "s1 = conls(G,p,ones(1,nteams),[1.0])"
   ]
  },
  {
   "cell_type": "code",
   "execution_count": 3,
   "metadata": {
    "collapsed": false
   },
   "outputs": [
    {
     "data": {
      "text/plain": [
       "1.0000000000000107"
      ]
     },
     "execution_count": 3,
     "metadata": {},
     "output_type": "execute_result"
    }
   ],
   "source": [
    "sum(s1)"
   ]
  },
  {
   "cell_type": "code",
   "execution_count": 4,
   "metadata": {
    "collapsed": false
   },
   "outputs": [
    {
     "data": {
      "text/plain": [
       "conls_lagrange"
      ]
     },
     "execution_count": 4,
     "metadata": {},
     "output_type": "execute_result"
    }
   ],
   "source": [
    "\"\"\"\n",
    "conls_lagrange\n",
    "=====\n",
    "\n",
    "Solve a constrained least squares problem \n",
    "\n",
    "    conls(A,b,B,d) -> x, lam\n",
    "\n",
    "solves \n",
    "\n",
    "   minimize     ||b - Ax||_2\n",
    "   subject to   Bx = d\n",
    "\n",
    "when B is p-by-n, p < n, and rank(B) = p, by using the augmented\n",
    "system of normal equations\n",
    "\n",
    "   [ A'*A  B' ] [  x  ] = [ A'*b]\n",
    "   [ B     0  ] [ lam ] = [  d  ]\n",
    "\n",
    "and returns both x and the lagrange multipliers\n",
    "\"\"\"\n",
    "function conls_lagrange(A,b,B,d)\n",
    "    m,n = size(A)\n",
    "    p = size(B,1)\n",
    "    \n",
    "    @assert size(B,2) == n \"incompatible dimensions for A and B\"\n",
    "    \n",
    "    # Step 1, form the block system\n",
    "    M = [A'*A B'; B zeros(p,p) ]\n",
    "\n",
    "    # Step 2, solve\n",
    "    z = M\\[A'*b; d]\n",
    "\n",
    "    # Step 3, extract \n",
    "    x = z[1:n]\n",
    "    lam = z[n+1:end]\n",
    "    \n",
    "    return x, lam\n",
    "end"
   ]
  },
  {
   "cell_type": "code",
   "execution_count": 5,
   "metadata": {
    "collapsed": false
   },
   "outputs": [
    {
     "data": {
      "text/plain": [
       "([-24.6,18.4,-7.8,-3.2,18.2],[-1.61648e-15])"
      ]
     },
     "execution_count": 5,
     "metadata": {},
     "output_type": "execute_result"
    }
   ],
   "source": [
    "s2,lam = conls_lagrange(G,p,ones(1,nteams),[1.0])"
   ]
  }
 ],
 "metadata": {
  "kernelspec": {
   "display_name": "Julia 0.5.0",
   "language": "julia",
   "name": "julia-0.5"
  },
  "language_info": {
   "file_extension": ".jl",
   "mimetype": "application/julia",
   "name": "julia",
   "version": "0.5.0"
  }
 },
 "nbformat": 4,
 "nbformat_minor": 1
}
