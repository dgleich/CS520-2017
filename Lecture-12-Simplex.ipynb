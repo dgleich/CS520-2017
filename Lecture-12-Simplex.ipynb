{
 "cells": [
  {
   "cell_type": "markdown",
   "metadata": {},
   "source": [
    "## A pedagogical implementation of the simplex method\n",
    "This is a simple implementation of the simplex method that can be vastly improved with \n",
    "better use of data structures and design. This code is designed to be used for\n",
    "classroom exercises and makes no attempt to be efficient at all.\n",
    "\n",
    "The overall organization of the code is that we have:\n",
    "* `SimplexState` which represents the current vertex and problem\n",
    "* `SimplexPoint` which represents the KKT information at a point\n",
    "\n",
    "We can create a `SimplexPoint` from a `SimplexState` to understand\n",
    "the current point.\n",
    "\n",
    "Then the fundamental iteration is `simplex_step`, which moves\n",
    "from one vertex to another and returns an updated `SimplexState`"
   ]
  },
  {
   "cell_type": "markdown",
   "metadata": {},
   "source": [
    "## Our running example\n",
    "We'll use this example to illustrate the codes"
   ]
  },
  {
   "cell_type": "code",
   "execution_count": 11,
   "metadata": {
    "collapsed": false
   },
   "outputs": [
    {
     "name": "stderr",
     "output_type": "stream",
     "text": [
      "WARNING: replacing module PlotRegion\n"
     ]
    },
    {
     "data": {
      "text/html": [
       "<script src=\"/opt/julia_packages/.julia/v0.5/Plots/src/backends/../../deps/plotly-latest.min.js\"></script>    <div id=\"c691fb95-1f0e-48ae-9361-c7196f60c296\" style=\"width:600px;height:400px;\"></div>\n",
       "    <script>\n",
       "    PLOT = document.getElementById('c691fb95-1f0e-48ae-9361-c7196f60c296');\n",
       "    Plotly.plot(PLOT, [{\"yaxis\":\"y\",\"showlegend\":false,\"type\":\"scatter\",\"xaxis\":\"x\",\"name\":\"\",\"fillcolor\":\"rgba(128, 128, 128, 0.500)\",\"y\":[2.0,0.0,0.0,5.0,4.0,2.0],\"line\":{\"width\":1,\"dash\":\"solid\",\"color\":\"rgba(0, 0, 0, 1.000)\"},\"fill\":\"tozeroy\",\"mode\":\"lines\",\"x\":[0.0,0.0,3.0,3.0,1.0,0.0]}], {\"yaxis\":{\"type\":\"-\",\"titlefont\":{\"size\":15,\"color\":\"rgba(0, 0, 0, 1.000)\",\"family\":\"sans-serif\"},\"title\":\"\",\"tickfont\":{\"size\":11,\"color\":\"rgba(0, 0, 0, 1.000)\",\"family\":\"sans-serif\"},\"ticks\":\"inside\",\"tickmode\":\"array\",\"showgrid\":true,\"tickvals\":[0.0,1.0,2.0,3.0,4.0,5.0],\"domain\":[0.03762029746281716,0.9901574803149606],\"ticktext\":[\"0\",\"1\",\"2\",\"3\",\"4\",\"5\"],\"tickangle\":0,\"zeroline\":false,\"linecolor\":\"rgba(0, 0, 0, 1.000)\",\"tickcolor\":\"rgba(0, 0, 0, 1.000)\",\"anchor\":\"x\"},\"annotations\":[],\"width\":600,\"plot_bgcolor\":\"rgba(255, 255, 255, 1.000)\",\"showlegend\":true,\"legend\":{\"bgcolor\":\"rgba(255, 255, 255, 1.000)\",\"y\":1.0,\"font\":{\"size\":11,\"color\":\"rgba(0, 0, 0, 1.000)\",\"family\":\"sans-serif\"},\"bordercolor\":\"rgba(0, 0, 0, 1.000)\",\"x\":1.0},\"xaxis\":{\"type\":\"-\",\"titlefont\":{\"size\":15,\"color\":\"rgba(0, 0, 0, 1.000)\",\"family\":\"sans-serif\"},\"title\":\"\",\"tickfont\":{\"size\":11,\"color\":\"rgba(0, 0, 0, 1.000)\",\"family\":\"sans-serif\"},\"ticks\":\"inside\",\"tickmode\":\"array\",\"showgrid\":true,\"tickvals\":[0.0,0.5,1.0,1.5,2.0,2.5,3.0],\"domain\":[0.02137649460484106,0.9934383202099737],\"ticktext\":[\"0.0\",\"0.5\",\"1.0\",\"1.5\",\"2.0\",\"2.5\",\"3.0\"],\"tickangle\":0,\"zeroline\":false,\"linecolor\":\"rgba(0, 0, 0, 1.000)\",\"tickcolor\":\"rgba(0, 0, 0, 1.000)\",\"anchor\":\"y\"},\"paper_bgcolor\":\"rgba(255, 255, 255, 1.000)\",\"height\":400,\"margin\":{\"r\":0,\"l\":0,\"b\":0,\"t\":20}});\n",
       "    </script>\n"
      ]
     },
     "execution_count": 11,
     "metadata": {},
     "output_type": "execute_result"
    }
   ],
   "source": [
    "A1 = [-2.0 1; \n",
    "      -1 2; \n",
    "       1 0]\n",
    "b = [2.0; 7; 3]\n",
    "\n",
    "A = [A1 eye(3)] # form the problem with slacks.\n",
    "\n",
    "include(\"plotregion.jl\")\n",
    "PlotRegion.plotregion(A,b)"
   ]
  },
  {
   "cell_type": "markdown",
   "metadata": {},
   "source": [
    "### Types"
   ]
  },
  {
   "cell_type": "code",
   "execution_count": null,
   "metadata": {
    "collapsed": true
   },
   "outputs": [],
   "source": [
    "type SimplexState\n",
    "    c::Vector    \n",
    "    A::Matrix\n",
    "    b::Vector\n",
    "    bset::Vector{Int} # columns of the BFP\n",
    "end"
   ]
  },
  {
   "cell_type": "code",
   "execution_count": 2,
   "metadata": {
    "collapsed": false
   },
   "outputs": [
    {
     "name": "stderr",
     "output_type": "stream",
     "text": [
      "WARNING: Method definition (::Type{Main.SimplexPoint})(Array{T<:Any, 1}, Array{Int64, 1}, Array{Int64, 1}, Array{T<:Any, 1}, Array{T<:Any, 1}, Array{T<:Any, 2}, Array{T<:Any, 2}) in module Main at In[1]:9 overwritten at In[2]:2.\n",
      "WARNING: Method definition (::Type{Main.SimplexPoint})(Any, Any, Any, Any, Any, Any, Any) in module Main at In[1]:9 overwritten at In[2]:2.\n",
      "WARNING: Method definition (::Type{Main.SimplexPoint})(Type) in module Main at In[1]:20 overwritten at In[2]:13.\n",
      "WARNING: Method definition (::Type{Main.SimplexPoint})(Type, Array{T<:Any, 2}, Array{T<:Any, 2}) in module Main at In[1]:25 overwritten at In[2]:18.\n",
      "WARNING: Method definition simplex_point(Main.SimplexState) in module Main at In[1]:30 overwritten at In[2]:23.\n"
     ]
    },
    {
     "data": {
      "text/plain": [
       "(:Solution,SimplexPoint([3.0,5.0,3.0,0.0,0.0],[1,2,3],Int64[],[-0.0,-1.0,-2.0],Float64[],[-2.0 1.0 1.0; -1.0 2.0 0.0; 1.0 0.0 0.0],))"
      ]
     },
     "execution_count": 2,
     "metadata": {},
     "output_type": "execute_result"
    }
   ],
   "source": [
    "type SimplexPoint\n",
    "    x::Vector   # \n",
    "    binds::Vector{Int}\n",
    "    ninds::Vector{Int}\n",
    "    lam::Vector # equality Lagrange mults\n",
    "    sn::Vector  # non-basis Lagrange mults\n",
    "    B::Matrix   # the set of basic cols\n",
    "    N::Matrix   # the set of non-basic cols\n",
    "end\n",
    "\n",
    "# These are constructors for \n",
    "function SimplexPoint(T::Type)\n",
    "    return SimplexPoint(zeros(T,0),zeros(Int,0),zeros(Int,0),\n",
    "        zeros(T,0), zeros(T,0), zeros(T,0), zeros(T,0))\n",
    "end\n",
    "\n",
    "function SimplexPoint(T::Type, B::Matrix, N::Matrix)\n",
    "    return SimplexPoint(zeros(T,0),zeros(Int,0),zeros(Int,0),\n",
    "        zeros(T,0), zeros(T,0), B, N)\n",
    "end\n",
    "\n",
    "function simplex_point(s::SimplexState)\n",
    "    m,n = size(state.A)\n",
    "    @assert length(state.bset) == m \"need more indices to define a BFP\"\n",
    "    binds = state.bset # basic variable indices\n",
    "    ninds = setdiff(1:size(A,1),binds) # non-basic\n",
    "    B = state.A[:,binds]\n",
    "    N = state.A[:,ninds]\n",
    "    cb = state.c[binds]\n",
    "    cn = state.c[ninds]\n",
    "    \n",
    "    if rank(B) != m\n",
    "        return (:Infeasible, SimplexPoint(eltype(c), B, N))\n",
    "    end\n",
    "    \n",
    "    xb = B\\b\n",
    "    x = zeros(eltype(xb),n)\n",
    "    x[binds] = xb\n",
    "    x[ninds] = zero(eltype(xb))\n",
    "    \n",
    "    lam = B'\\cb\n",
    "    sn = cn - N'*lam\n",
    "    \n",
    "    if any(xb .< 0)\n",
    "        return (:Infeasible, SimplexPoint(x, binds, ninds, lam, sn, B, N))\n",
    "    else\n",
    "        if all(sn .>= 0)\n",
    "            return (:Solution, SimplexPoint(x, binds, ninds, lam, sn, B, N))\n",
    "        else\n",
    "            return (:Feasible, SimplexPoint(x, binds, ninds, lam, sn, B, N))\n",
    "        end\n",
    "    end\n",
    "end\n",
    "\n",
    "A1 = [-2.0 1; \n",
    "      -1 2; \n",
    "       1 0]\n",
    "b = [2.0; 7; 3]\n",
    "\n",
    "A = [A1 eye(3)] # form the problem with slacks.\n",
    "\n",
    "state = SimplexState([-1.0,-2.0,0.0,0.0,0.0],A,b,[1,2,3])\n",
    "simplex_point(state)\n"
   ]
  },
  {
   "cell_type": "markdown",
   "metadata": {},
   "source": [
    "### Phase 1: Crash or Presolve\n",
    "We need to find an initial basis. We'll see how to do this soon."
   ]
  },
  {
   "cell_type": "code",
   "execution_count": null,
   "metadata": {
    "collapsed": true
   },
   "outputs": [],
   "source": [
    "function simplex_init(c,A,b)\n",
    "end"
   ]
  },
  {
   "cell_type": "code",
   "execution_count": 1,
   "metadata": {
    "collapsed": false
   },
   "outputs": [
    {
     "data": {
      "text/plain": [
       "(:Solution,SimplexPoint([3.0,5.0,3.0,0.0,0.0],[1,2,3],Int64[],[-0.0,-1.0,-2.0],Float64[],[-2.0 1.0 1.0; -1.0 2.0 0.0; 1.0 0.0 0.0],))"
      ]
     },
     "execution_count": 1,
     "metadata": {},
     "output_type": "execute_result"
    }
   ],
   "source": []
  },
  {
   "cell_type": "code",
   "execution_count": 29,
   "metadata": {
    "collapsed": false
   },
   "outputs": [
    {
     "name": "stdout",
     "output_type": "stream",
     "text": [
      "state.bset = [2,4,5]\n",
      "(state.bset,status) = ([2,1,5],:Feasible)\n"
     ]
    },
    {
     "name": "stderr",
     "output_type": "stream",
     "text": [
      "WARNING: Method definition simplex_step!(Main.SimplexState) in module Main at In[25]:2 overwritten at In[29]:2.\n"
     ]
    },
    {
     "data": {
      "text/plain": [
       "([2,1,5],:Feasible)"
      ]
     },
     "execution_count": 29,
     "metadata": {},
     "output_type": "execute_result"
    }
   ],
   "source": [
    "function simplex_step!(state::SimplexState)\n",
    "    stat,p::SimplexPoint = simplex_point(state)\n",
    "    \n",
    "    if stat == :Solution\n",
    "        return stat, p\n",
    "    elseif state == :Infeasible\n",
    "        return :Breakdown, p\n",
    "    else # we have a BFP\n",
    "        #= This is the Simplex Step! =#\n",
    "        \n",
    "        # take the Dantzig index to add to basic\n",
    "        qn = indmin(p.sn)\n",
    "        q = p.ninds[qn] # translate index\n",
    "        # check that nothing went wrong\n",
    "        @assert all(state.A[:,q] == p.N[:,qn]) \n",
    "        \n",
    "        d = p.B \\ state.A[:,q] \n",
    "        #@show d\n",
    "        \n",
    "        # check for stagnation and lack of progress\n",
    "        # TODO, implement an anti-cycling method.\n",
    "        if all(d .<= eps(eltype(d)))\n",
    "            return :Cycling, p\n",
    "        end\n",
    "    \n",
    "        # determine the index to remove\n",
    "        xq = p.x[p.binds]./d\n",
    "        xq[d .< eps(eltype(xq))] = Inf\n",
    "        pb = indmin(xq)\n",
    "        pind = p.binds[pb] # translate index \n",
    "        \n",
    "        #@show p.binds, pb, pind, state.bset, q\n",
    "        \n",
    "        # remove p and add q\n",
    "        @assert state.bset[pb] == pind\n",
    "        state.bset[pb] = q\n",
    "        \n",
    "        return stat, p\n",
    "    end\n",
    "end\n",
    "\n",
    "A1 = [-2.0 1; \n",
    "      -1 2; \n",
    "       1 0]\n",
    "b = [2.0; 7; 3]\n",
    "\n",
    "A = [A1 eye(3)] # form the problem with slacks.\n",
    "\n",
    "state = SimplexState([-1.0,-2.0,0.0,0.0,0.0],A,b,[2,4,5])\n",
    "@show state.bset\n",
    "status, p = simplex_step!(state)\n",
    "@show state.bset, status"
   ]
  },
  {
   "cell_type": "code",
   "execution_count": 28,
   "metadata": {
    "collapsed": false
   },
   "outputs": [
    {
     "ename": "LoadError",
     "evalue": "ArgumentError: collection must be non-empty",
     "output_type": "error",
     "traceback": [
      "ArgumentError: collection must be non-empty",
      "",
      " in findmin(::Array{Float64,1}) at ./array.jl:1254",
      " in indmin at ./array.jl:1294 [inlined]",
      " in simplex_step!(::SimplexState) at ./In[25]:12"
     ]
    }
   ],
   "source": [
    "state = SimplexState([-1.0,-2.0,0.0,0.0,0.0],A,b,[1,2,3])\n",
    "status, p = simplex_step!(state)"
   ]
  },
  {
   "cell_type": "markdown",
   "metadata": {},
   "source": [
    "## The simplex method on our example"
   ]
  },
  {
   "cell_type": "code",
   "execution_count": 37,
   "metadata": {
    "collapsed": false
   },
   "outputs": [
    {
     "name": "stdout",
     "output_type": "stream",
     "text": [
      "state.bset = [3,4,5]\n",
      "state.bset = [2,4,5]\n",
      "state.bset = [2,1,5]\n",
      "state.bset = [2,1,3]\n"
     ]
    },
    {
     "name": "stderr",
     "output_type": "stream",
     "text": [
      "WARNING: replacing module PlotRegion\n"
     ]
    },
    {
     "data": {
      "text/html": [
       "<script src=\"/opt/julia_packages/.julia/v0.5/Plots/src/backends/../../deps/plotly-latest.min.js\"></script>    <div id=\"e419d1ec-cb7b-4f53-b61f-98f419bf5b3b\" style=\"width:600px;height:400px;\"></div>\n",
       "    <script>\n",
       "    PLOT = document.getElementById('e419d1ec-cb7b-4f53-b61f-98f419bf5b3b');\n",
       "    Plotly.plot(PLOT, [{\"yaxis\":\"y\",\"showlegend\":false,\"type\":\"scatter\",\"xaxis\":\"x\",\"name\":\"\",\"fillcolor\":\"rgba(128, 128, 128, 0.500)\",\"y\":[2.0,0.0,0.0,5.0,4.0,2.0],\"line\":{\"width\":1,\"dash\":\"solid\",\"color\":\"rgba(0, 0, 0, 1.000)\"},\"fill\":\"tozeroy\",\"mode\":\"lines\",\"x\":[0.0,0.0,3.0,3.0,1.0,0.0]},{\"yaxis\":\"y\",\"y\":[0.0],\"showlegend\":false,\"name\":\"\",\"type\":\"scatter\",\"xaxis\":\"x\",\"x\":[0.0],\"mode\":\"markers\",\"marker\":{\"symbol\":\"circle\",\"line\":{\"width\":1,\"color\":\"rgba(0, 0, 0, 0.200)\"},\"size\":30,\"color\":\"rgba(255, 165, 0, 0.200)\"}},{\"yaxis\":\"y\",\"y\":[2.0],\"showlegend\":false,\"name\":\"\",\"type\":\"scatter\",\"xaxis\":\"x\",\"x\":[0.0],\"mode\":\"markers\",\"marker\":{\"symbol\":\"circle\",\"line\":{\"width\":1,\"color\":\"rgba(0, 0, 0, 0.200)\"},\"size\":30,\"color\":\"rgba(255, 165, 0, 0.200)\"}},{\"yaxis\":\"y\",\"y\":[4.0],\"showlegend\":false,\"name\":\"\",\"type\":\"scatter\",\"xaxis\":\"x\",\"x\":[1.0],\"mode\":\"markers\",\"marker\":{\"symbol\":\"circle\",\"line\":{\"width\":1,\"color\":\"rgba(0, 0, 0, 0.200)\"},\"size\":30,\"color\":\"rgba(255, 165, 0, 0.200)\"}},{\"yaxis\":\"y\",\"y\":[5.0],\"showlegend\":false,\"name\":\"\",\"type\":\"scatter\",\"xaxis\":\"x\",\"x\":[3.0],\"mode\":\"markers\",\"marker\":{\"symbol\":\"circle\",\"line\":{\"width\":1,\"color\":\"rgba(0, 0, 0, 0.200)\"},\"size\":30,\"color\":\"rgba(255, 0, 0, 0.200)\"}}], {\"yaxis\":{\"type\":\"-\",\"titlefont\":{\"size\":15,\"color\":\"rgba(0, 0, 0, 1.000)\",\"family\":\"sans-serif\"},\"title\":\"\",\"tickfont\":{\"size\":11,\"color\":\"rgba(0, 0, 0, 1.000)\",\"family\":\"sans-serif\"},\"ticks\":\"inside\",\"tickmode\":\"array\",\"showgrid\":true,\"tickvals\":[0.0,2.0,4.0],\"domain\":[0.03762029746281716,0.9901574803149606],\"ticktext\":[\"0\",\"2\",\"4\"],\"tickangle\":0,\"zeroline\":false,\"linecolor\":\"rgba(0, 0, 0, 1.000)\",\"tickcolor\":\"rgba(0, 0, 0, 1.000)\",\"anchor\":\"x\"},\"annotations\":[{\"text\":\"1\",\"y\":0.0,\"xref\":\"x\",\"font\":{\"size\":20,\"color\":\"rgba(0, 0, 0, 1.000)\",\"family\":\"sans-serif\"},\"xanchor\":\"center\",\"x\":0.0,\"yref\":\"x\",\"showarrow\":false,\"yanchor\":\"middle\",\"rotation\":-0.0},{\"text\":\"2\",\"y\":2.0,\"xref\":\"x\",\"font\":{\"size\":20,\"color\":\"rgba(0, 0, 0, 1.000)\",\"family\":\"sans-serif\"},\"xanchor\":\"center\",\"x\":0.0,\"yref\":\"x\",\"showarrow\":false,\"yanchor\":\"middle\",\"rotation\":-0.0},{\"text\":\"3\",\"y\":4.0,\"xref\":\"x\",\"font\":{\"size\":20,\"color\":\"rgba(0, 0, 0, 1.000)\",\"family\":\"sans-serif\"},\"xanchor\":\"center\",\"x\":1.0,\"yref\":\"x\",\"showarrow\":false,\"yanchor\":\"middle\",\"rotation\":-0.0},{\"text\":\"4\",\"y\":5.0,\"xref\":\"x\",\"font\":{\"size\":20,\"color\":\"rgba(0, 0, 0, 1.000)\",\"family\":\"sans-serif\"},\"xanchor\":\"center\",\"x\":3.0,\"yref\":\"x\",\"showarrow\":false,\"yanchor\":\"middle\",\"rotation\":-0.0}],\"width\":600,\"plot_bgcolor\":\"rgba(255, 255, 255, 1.000)\",\"showlegend\":true,\"legend\":{\"bgcolor\":\"rgba(255, 255, 255, 1.000)\",\"y\":1.0,\"font\":{\"size\":11,\"color\":\"rgba(0, 0, 0, 1.000)\",\"family\":\"sans-serif\"},\"bordercolor\":\"rgba(0, 0, 0, 1.000)\",\"x\":1.0},\"xaxis\":{\"type\":\"-\",\"titlefont\":{\"size\":15,\"color\":\"rgba(0, 0, 0, 1.000)\",\"family\":\"sans-serif\"},\"title\":\"\",\"tickfont\":{\"size\":11,\"color\":\"rgba(0, 0, 0, 1.000)\",\"family\":\"sans-serif\"},\"ticks\":\"inside\",\"tickmode\":\"array\",\"showgrid\":true,\"tickvals\":[0.0,1.0,2.0,3.0],\"domain\":[0.02137649460484106,0.9934383202099737],\"ticktext\":[\"0\",\"1\",\"2\",\"3\"],\"tickangle\":0,\"zeroline\":false,\"linecolor\":\"rgba(0, 0, 0, 1.000)\",\"tickcolor\":\"rgba(0, 0, 0, 1.000)\",\"anchor\":\"y\"},\"paper_bgcolor\":\"rgba(255, 255, 255, 1.000)\",\"height\":400,\"margin\":{\"r\":0,\"l\":0,\"b\":0,\"t\":20}});\n",
       "    </script>\n"
      ]
     },
     "execution_count": 37,
     "metadata": {},
     "output_type": "execute_result"
    }
   ],
   "source": [
    "using Plots\n",
    "A1 = [-2.0 1; \n",
    "      -1 2; \n",
    "       1 0]\n",
    "b = [2.0; 7; 3]\n",
    "\n",
    "A = [A1 eye(3)] # form the problem with slacks.\n",
    "\n",
    "include(\"plotregion.jl\")\n",
    "PlotRegion.plotregion(A,b)\n",
    "\n",
    "# start off with the point (0,0)\n",
    "state = SimplexState([-1.0,-2.0,0.0,0.0,0.0],A,b,\n",
    "    [3,4,5])\n",
    "@show state.bset\n",
    "status, p = simplex_step!(state)\n",
    "iter = 1\n",
    "while status != :Solution\n",
    "    @show state.bset\n",
    "    scatter!([p.x[1]],[p.x[2]],\n",
    "        series_annotations=[\"$(iter)\"],marker=(15,0.2,:orange),label=\"\")\n",
    "    status, p = simplex_step!(state)\n",
    "    iter += 1\n",
    "end\n",
    "scatter!([p.x[1]],[p.x[2]],\n",
    "    series_annotations=[\"$(iter)\"],marker=(15,0.2,:red),label=\"\")"
   ]
  }
 ],
 "metadata": {
  "kernelspec": {
   "display_name": "Julia 0.5.0",
   "language": "julia",
   "name": "julia-0.5"
  },
  "language_info": {
   "file_extension": ".jl",
   "mimetype": "application/julia",
   "name": "julia",
   "version": "0.5.0"
  }
 },
 "nbformat": 4,
 "nbformat_minor": 1
}
