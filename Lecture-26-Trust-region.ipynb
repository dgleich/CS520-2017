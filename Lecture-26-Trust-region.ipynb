{
 "cells": [
  {
   "cell_type": "code",
   "execution_count": 2,
   "metadata": {
    "collapsed": false
   },
   "outputs": [
    {
     "name": "stderr",
     "output_type": "stream",
     "text": [
      "WARNING: Method definition solve_trust_region_subproblem(Any, Any, Any) in module Main at In[1]:3 overwritten at In[2]:3.\n",
      "WARNING: Method definition solve_trust_region_subproblem(Any, Any, Any, Any) in module Main at In[1]:3 overwritten at In[2]:3.\n"
     ]
    },
    {
     "data": {
      "text/plain": [
       "getchol (generic function with 1 method)"
      ]
     },
     "execution_count": 2,
     "metadata": {},
     "output_type": "execute_result"
    }
   ],
   "source": [
    "function solve_trust_region_subproblem(Bk, g, delta, lam0=-1)\n",
    "#A pedagogical solver for the trust region subproblem\n",
    "n = size(Bk, 1)\n",
    "\n",
    "okay, R, p, q = getchol(Bk, 0, g)\n",
    "if okay\n",
    "    if norm(p) < delta\n",
    "        lam = 0\n",
    "        return p, lam\n",
    "    end\n",
    "end\n",
    "\n",
    "if lam0 > 0\n",
    "    lam = lam0\n",
    "else\n",
    "    lam = 1\n",
    "end\n",
    "first = true\n",
    "\n",
    "for i = 1:100 # maxiter should be an option\n",
    "    assert(lam > 0)\n",
    "    okay, ~, p, q = getchol(Bk, lam, g)\n",
    "    if !okay && !first\n",
    "        #then lam is too small, bisect back to oldlam, which was good\n",
    "        lam = lam + (oldlam - lam)/2;\n",
    "        continue\n",
    "    elseif first && !okay\n",
    "        #keep increasing until we get somewhere\n",
    "        found = false\n",
    "        for j = 1:20 #maxfinditer should be an option\n",
    "            lam = 2*lam\n",
    "            okay, ~, p, q = getchol(Bk, lam, g)\n",
    "            if okay\n",
    "                found = true\n",
    "                break\n",
    "            end\n",
    "        end\n",
    "        assert(found)\n",
    "    end\n",
    "    first = false\n",
    "    if abs(norm(p) - delta) < 1e-6 #tol should be an option\n",
    "        return p, lam\n",
    "    end\n",
    "\n",
    "    oldlam = lam\n",
    "    lam = lam + (norm(p)/norm(q))^2 * (norm(p)-delta)/delta\n",
    "end\n",
    "error(\"too many iterations\")\n",
    "end\n",
    "\n",
    "function getchol(Bk, lam, g)\n",
    "n = size(Bk, 1)\n",
    "try\n",
    "    R = chol(Bk + lam*eye(n))\n",
    "    p1 = R'\\(-g)\n",
    "    p = R\\p1\n",
    "    q = R'\\p\n",
    "    okay = true\n",
    "catch e\n",
    "    okay = false\n",
    "    R = []\n",
    "    p = []\n",
    "    q = []\n",
    "end\n",
    "return okay, R, p, q\n",
    "end"
   ]
  },
  {
   "cell_type": "code",
   "execution_count": null,
   "metadata": {
    "collapsed": true
   },
   "outputs": [],
   "source": []
  }
 ],
 "metadata": {
  "kernelspec": {
   "display_name": "Julia 0.5.1",
   "language": "julia",
   "name": "julia-0.5"
  },
  "language_info": {
   "file_extension": ".jl",
   "mimetype": "application/julia",
   "name": "julia",
   "version": "0.5.1"
  }
 },
 "nbformat": 4,
 "nbformat_minor": 1
}
