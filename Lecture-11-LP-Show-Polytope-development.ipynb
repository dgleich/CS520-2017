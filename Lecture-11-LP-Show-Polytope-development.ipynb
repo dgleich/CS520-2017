{
 "cells": [
  {
   "cell_type": "markdown",
   "metadata": {},
   "source": [
    "This was my work in developing the plotregion function in Julia\n",
    "to show the feasible region of an LP.\n",
    "\n",
    "I really do cheat though and just use the fact that the BFPs are the\n",
    "vertices. "
   ]
  },
  {
   "cell_type": "code",
   "execution_count": 4,
   "metadata": {
    "collapsed": false
   },
   "outputs": [
    {
     "name": "stderr",
     "output_type": "stream",
     "text": [
      "\u001b[1m\u001b[34mINFO: Recompiling stale cache file /home/juser/.julia/lib/v0.5/FixedSizeArrays.ji for module FixedSizeArrays.\n",
      "\u001b[0m"
     ]
    }
   ],
   "source": [
    "# Pkg.add(\"QuickHull\")\n",
    "using QuickHull\n",
    "using Combinatorics\n",
    "using FixedSizeArrays"
   ]
  },
  {
   "cell_type": "code",
   "execution_count": 10,
   "metadata": {
    "collapsed": false
   },
   "outputs": [
    {
     "data": {
      "text/plain": [
       "10-element Array{Array{Int64,1},1}:\n",
       " [1,2,3]\n",
       " [1,2,4]\n",
       " [1,2,5]\n",
       " [1,3,4]\n",
       " [1,3,5]\n",
       " [1,4,5]\n",
       " [2,3,4]\n",
       " [2,3,5]\n",
       " [2,4,5]\n",
       " [3,4,5]"
      ]
     },
     "execution_count": 10,
     "metadata": {},
     "output_type": "execute_result"
    }
   ],
   "source": [
    "collect(combinations(1:5,3))"
   ]
  },
  {
   "cell_type": "code",
   "execution_count": 11,
   "metadata": {
    "collapsed": false
   },
   "outputs": [
    {
     "data": {
      "text/plain": [
       "2-element Array{Int64,1}:\n",
       " 4\n",
       " 5"
      ]
     },
     "execution_count": 11,
     "metadata": {},
     "output_type": "execute_result"
    }
   ],
   "source": [
    "setdiff(1:5,[1,2,3])"
   ]
  },
  {
   "cell_type": "markdown",
   "metadata": {},
   "source": [
    "```matlab\n",
    "%% Define the LP\n",
    "% minimize    -x1 - 2*x2\n",
    "% subject to  -2*x1 + x2 <= 2\n",
    "%             -x1 + 2*x2 <= 7\n",
    "%              x1        <= 3\n",
    "%              x1, x2 >= 0\n",
    "%\n",
    "% Except, we need this in standard form:\n",
    "% minimize f'*x subject to. A*x <= b\n",
    "\n",
    "c = [-1 -2];\n",
    "A = [-2 1; -1 2; 1 0];\n",
    "b = [2; 7; 3];\n",
    "lb = [0; 0];\n",
    "ub = []; % No upper bound\n",
    "\n",
    "%% Find the solution using linprog\n",
    "x = linprog(c,A,b,[],[],lb);\n",
    "\n",
    "%% Define the full LP with all the slacks.\n",
    "c = [-1 -2 0 0 0];\n",
    "A1 = [-2 1; -1 2; 1 0];\n",
    "b = [2; 7; 3];\n",
    "A = [A1 eye(3)];\n",
    "%x = linprog(c,[],[],A,b,zeros(5,1));\n",
    "```"
   ]
  },
  {
   "cell_type": "code",
   "execution_count": 26,
   "metadata": {
    "collapsed": false
   },
   "outputs": [
    {
     "name": "stderr",
     "output_type": "stream",
     "text": [
      "WARNING: Method definition basic_feasible_point(Array{T<:Any, 2}, Array{T<:Any, 1}, Array{T<:Any, 1}) in module Main at In[25]:2 overwritten at In[26]:2.\n"
     ]
    },
    {
     "data": {
      "text/plain": [
       "(:Feasible,[3.0,5.0,3.0,0.0,0.0])"
      ]
     },
     "execution_count": 26,
     "metadata": {},
     "output_type": "execute_result"
    }
   ],
   "source": [
    "function basic_feasible_point(A::Matrix,b::Vector,set::Vector)\n",
    "    m,n = size(A)\n",
    "    @assert length(set) == m \"need more indices to define a BFP\"\n",
    "    binds = set # basic variable indices\n",
    "    ninds = setdiff(1:size(A,1),binds) # non-basic\n",
    "    B = A[:,binds]\n",
    "    N = A[:,ninds]\n",
    "    #cb = c[binds]\n",
    "    #cn = c[ninds]\n",
    "    \n",
    "    if rank(B) != m\n",
    "        return (:Infeasible, 0)\n",
    "    end\n",
    "    \n",
    "    xb = B\\b\n",
    "    x = zeros(eltype(xb),n)\n",
    "    x[binds] = xb\n",
    "    x[ninds] = zero(eltype(xb))    \n",
    "    \n",
    "    if any(xb .< 0)\n",
    "        return (:Infeasible, x)\n",
    "    else\n",
    "        #lam = B'\\cb\n",
    "        #sn = cn - N'*lam\n",
    "        return (:Feasible, x)\n",
    "    end\n",
    "end\n",
    "A1 = [-2.0 1; -1 2; 1 0]\n",
    "b = [2.0; 7; 3]\n",
    "A = [A1 eye(3)]\n",
    "basic_feasible_point(A,b,[1,2,3])"
   ]
  },
  {
   "cell_type": "code",
   "execution_count": 23,
   "metadata": {
    "collapsed": false
   },
   "outputs": [
    {
     "data": {
      "text/plain": [
       "1-element Array{FixedSizeArrays.Vec{2,Float64},1}:\n",
       " Vec(5.0,6.0)"
      ]
     },
     "execution_count": 23,
     "metadata": {},
     "output_type": "execute_result"
    }
   ],
   "source": [
    "verts = Vector{Vec{2,Float64}}()\n",
    "push!(verts, Vec(5.0,6.0))"
   ]
  },
  {
   "cell_type": "code",
   "execution_count": 33,
   "metadata": {
    "collapsed": false
   },
   "outputs": [
    {
     "ename": "LoadError",
     "evalue": "UndefVarError: ? not defined",
     "output_type": "error",
     "traceback": [
      "UndefVarError: ? not defined",
      ""
     ]
    }
   ],
   "source": [
    "using Plots"
   ]
  },
  {
   "cell_type": "code",
   "execution_count": 40,
   "metadata": {
    "collapsed": false
   },
   "outputs": [
    {
     "name": "stderr",
     "output_type": "stream",
     "text": [
      "WARNING: Method definition plotregion(Array{T<:Any, 2}, Array{T<:Any, 1}) in module Main at In[39]:7 overwritten at In[40]:7.\n",
      "\u001b[1m\u001b[31mWARNING: replacing docs for 'plotregion :: Tuple{Array{T,2},Array{T,1}}' in module 'Main'.\u001b[0m\n"
     ]
    },
    {
     "data": {
      "text/html": [
       "<script src=\"/opt/julia_packages/.julia/v0.5/Plots/src/backends/../../deps/plotly-latest.min.js\"></script>    <div id=\"4276b07e-77d0-46e2-be8d-582dd82239b4\" style=\"width:600px;height:400px;\"></div>\n",
       "    <script>\n",
       "    PLOT = document.getElementById('4276b07e-77d0-46e2-be8d-582dd82239b4');\n",
       "    Plotly.plot(PLOT, [{\"yaxis\":\"y\",\"showlegend\":false,\"type\":\"scatter\",\"xaxis\":\"x\",\"name\":\"\",\"fillcolor\":\"rgba(128, 128, 128, 0.500)\",\"y\":[2.0,0.0,0.0,5.0,4.0,2.0],\"line\":{\"width\":1,\"dash\":\"solid\",\"color\":\"rgba(0, 0, 0, 1.000)\"},\"fill\":\"tozeroy\",\"mode\":\"lines\",\"x\":[0.0,0.0,3.0,3.0,1.0,0.0]}], {\"yaxis\":{\"type\":\"-\",\"titlefont\":{\"size\":15,\"color\":\"rgba(0, 0, 0, 1.000)\",\"family\":\"sans-serif\"},\"title\":\"\",\"tickfont\":{\"size\":11,\"color\":\"rgba(0, 0, 0, 1.000)\",\"family\":\"sans-serif\"},\"ticks\":\"inside\",\"tickmode\":\"array\",\"showgrid\":true,\"tickvals\":[0.0,1.0,2.0,3.0,4.0,5.0],\"domain\":[0.03762029746281716,0.9901574803149606],\"ticktext\":[\"0\",\"1\",\"2\",\"3\",\"4\",\"5\"],\"tickangle\":0,\"zeroline\":false,\"linecolor\":\"rgba(0, 0, 0, 1.000)\",\"tickcolor\":\"rgba(0, 0, 0, 1.000)\",\"anchor\":\"x\"},\"annotations\":[],\"width\":600,\"plot_bgcolor\":\"rgba(255, 255, 255, 1.000)\",\"showlegend\":true,\"legend\":{\"bgcolor\":\"rgba(255, 255, 255, 1.000)\",\"y\":1.0,\"font\":{\"size\":11,\"color\":\"rgba(0, 0, 0, 1.000)\",\"family\":\"sans-serif\"},\"bordercolor\":\"rgba(0, 0, 0, 1.000)\",\"x\":1.0},\"xaxis\":{\"type\":\"-\",\"titlefont\":{\"size\":15,\"color\":\"rgba(0, 0, 0, 1.000)\",\"family\":\"sans-serif\"},\"title\":\"\",\"tickfont\":{\"size\":11,\"color\":\"rgba(0, 0, 0, 1.000)\",\"family\":\"sans-serif\"},\"ticks\":\"inside\",\"tickmode\":\"array\",\"showgrid\":true,\"tickvals\":[0.0,0.5,1.0,1.5,2.0,2.5,3.0],\"domain\":[0.02137649460484106,0.9934383202099737],\"ticktext\":[\"0.0\",\"0.5\",\"1.0\",\"1.5\",\"2.0\",\"2.5\",\"3.0\"],\"tickangle\":0,\"zeroline\":false,\"linecolor\":\"rgba(0, 0, 0, 1.000)\",\"tickcolor\":\"rgba(0, 0, 0, 1.000)\",\"anchor\":\"y\"},\"paper_bgcolor\":\"rgba(255, 255, 255, 1.000)\",\"height\":400,\"margin\":{\"r\":0,\"l\":0,\"b\":0,\"t\":20}});\n",
       "    </script>\n"
      ]
     },
     "execution_count": 40,
     "metadata": {},
     "output_type": "execute_result"
    }
   ],
   "source": [
    "\"\"\"\n",
    "Plot the feasible polytope \n",
    "Ax = b, x >= 0\n",
    "for the first two components of x.\n",
    "\"\"\"\n",
    "function plotregion(A::Matrix,b::Vector)\n",
    "    m,n = size(A)\n",
    "    verts = Vector{Vec{2,Float64}}()\n",
    "    for inds in combinations(1:n,m)\n",
    "        bfp=basic_feasible_point(A,b,inds)\n",
    "        if bfp[1] == :Feasible\n",
    "            push!(verts, Vec(bfp[2][1], bfp[2][2]) )\n",
    "        end\n",
    "    end\n",
    "    hull = qhull(verts)\n",
    "    plot(Shape(hull),fillalpha=0.5, fillcolor=\"grey\", label=\"\")\n",
    "end\n",
    "plotregion(A,b)"
   ]
  }
 ],
 "metadata": {
  "kernelspec": {
   "display_name": "Julia 0.5.0",
   "language": "julia",
   "name": "julia-0.5"
  },
  "language_info": {
   "file_extension": ".jl",
   "mimetype": "application/julia",
   "name": "julia",
   "version": "0.5.0"
  }
 },
 "nbformat": 4,
 "nbformat_minor": 1
}
