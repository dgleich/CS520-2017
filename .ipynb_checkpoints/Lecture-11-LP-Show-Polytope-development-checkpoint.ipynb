{
 "cells": [
  {
   "cell_type": "markdown",
   "metadata": {},
   "source": [
    "This was my work in developing the plotregion function in Julia"
   ]
  },
  {
   "cell_type": "code",
   "execution_count": 4,
   "metadata": {
    "collapsed": false
   },
   "outputs": [
    {
     "name": "stderr",
     "output_type": "stream",
     "text": [
      "\u001b[1m\u001b[34mINFO: Recompiling stale cache file /home/juser/.julia/lib/v0.5/FixedSizeArrays.ji for module FixedSizeArrays.\n",
      "\u001b[0m"
     ]
    }
   ],
   "source": [
    "# Pkg.add(\"QuickHull\")\n",
    "using QuickHull\n",
    "using Combinatorics"
   ]
  },
  {
   "cell_type": "code",
   "execution_count": 10,
   "metadata": {
    "collapsed": false
   },
   "outputs": [
    {
     "data": {
      "text/plain": [
       "10-element Array{Array{Int64,1},1}:\n",
       " [1,2,3]\n",
       " [1,2,4]\n",
       " [1,2,5]\n",
       " [1,3,4]\n",
       " [1,3,5]\n",
       " [1,4,5]\n",
       " [2,3,4]\n",
       " [2,3,5]\n",
       " [2,4,5]\n",
       " [3,4,5]"
      ]
     },
     "execution_count": 10,
     "metadata": {},
     "output_type": "execute_result"
    }
   ],
   "source": [
    "collect(combinations(1:5,3))"
   ]
  },
  {
   "cell_type": "code",
   "execution_count": 11,
   "metadata": {
    "collapsed": false
   },
   "outputs": [
    {
     "data": {
      "text/plain": [
       "2-element Array{Int64,1}:\n",
       " 4\n",
       " 5"
      ]
     },
     "execution_count": 11,
     "metadata": {},
     "output_type": "execute_result"
    }
   ],
   "source": [
    "setdiff(1:5,[1,2,3])"
   ]
  },
  {
   "cell_type": "markdown",
   "metadata": {},
   "source": [
    "```matlab\n",
    "%% Define the LP\n",
    "% minimize    -x1 - 2*x2\n",
    "% subject to  -2*x1 + x2 <= 2\n",
    "%             -x1 + 2*x2 <= 7\n",
    "%              x1        <= 3\n",
    "%              x1, x2 >= 0\n",
    "%\n",
    "% Except, we need this in standard form:\n",
    "% minimize f'*x subject to. A*x <= b\n",
    "\n",
    "c = [-1 -2];\n",
    "A = [-2 1; -1 2; 1 0];\n",
    "b = [2; 7; 3];\n",
    "lb = [0; 0];\n",
    "ub = []; % No upper bound\n",
    "\n",
    "%% Find the solution using linprog\n",
    "x = linprog(c,A,b,[],[],lb);\n",
    "\n",
    "%% Define the full LP with all the slacks.\n",
    "c = [-1 -2 0 0 0];\n",
    "A1 = [-2 1; -1 2; 1 0];\n",
    "b = [2; 7; 3];\n",
    "A = [A1 eye(3)];\n",
    "%x = linprog(c,[],[],A,b,zeros(5,1));\n",
    "```"
   ]
  },
  {
   "cell_type": "code",
   "execution_count": 13,
   "metadata": {
    "collapsed": false
   },
   "outputs": [
    {
     "name": "stderr",
     "output_type": "stream",
     "text": [
      "WARNING: Method definition basic_feasible_point(Array{T<:Any, 2}, Array{T<:Any, 1}, Array{T<:Any, 1}) in module Main at In[12]:2 overwritten at In[13]:2.\n"
     ]
    },
    {
     "ename": "LoadError",
     "evalue": "UndefVarError: c not defined",
     "output_type": "error",
     "traceback": [
      "UndefVarError: c not defined",
      "",
      " in basic_feasible_point(::Array{Float64,2}, ::Array{Float64,1}, ::Array{Int64,1}) at ./In[13]:8"
     ]
    }
   ],
   "source": [
    "function basic_feasible_point(A::Matrix,b::Vector,set::Vector)\n",
    "    m,n = size(A)\n",
    "    @assert length(set) == m \"need more indices to define a BFP\"\n",
    "    binds = set # basic variable indices\n",
    "    ninds = setdiff(1:size(A,1),binds) # non-basic\n",
    "    B = A[:,binds]\n",
    "    N = A[:,ninds]\n",
    "    #cb = c[binds]\n",
    "    #cn = c[ninds]\n",
    "    \n",
    "    xb = B\\b\n",
    "    x = zeros(eltype(xb),n)\n",
    "    x[binds] = xb\n",
    "    x[ninds] = zero(eltype(xb))    \n",
    "    \n",
    "    if any(xb .< 0)\n",
    "        return (:Infeasible, x)\n",
    "    else\n",
    "        #lam = B'\\cb\n",
    "        #sn = cn - N'*lam\n",
    "        return (:Feasible, x)\n",
    "    end\n",
    "end\n",
    "A1 = [-2.0 1; -1 2; 1 0]\n",
    "b = [2.0; 7; 3]\n",
    "A = [A1 eye(3)]\n",
    "basic_feasible_point(A,b,[1,2,3])"
   ]
  },
  {
   "cell_type": "code",
   "execution_count": null,
   "metadata": {
    "collapsed": true
   },
   "outputs": [],
   "source": []
  },
  {
   "cell_type": "code",
   "execution_count": null,
   "metadata": {
    "collapsed": true
   },
   "outputs": [],
   "source": [
    "\"\"\"\n",
    "Plot the feasible polytope \n",
    "Ax = b, x >= 0\n",
    "for the first two components of x.\n",
    "\"\"\"\n",
    "function plotregion(A::Matrix,b::Vector)\n",
    "    m,n = size(A)\n",
    "    for inds in combinations(1:n,m)\n",
    "        bfp=basic_feasible_point(A,b,inds)\n",
    "\n",
    "%% Look at all vertices\n",
    "nchoosek(5,3)\n",
    "\n",
    "sets = nchoosek(1:5,3);\n",
    "\n",
    "xlim([-10 10]);\n",
    "ylim([0,8]);\n",
    "\n",
    "for i=1:size(sets,1)\n",
    "\n",
    "    \n",
    "        lam = B'\\cb';\n",
    "\n",
    "        sn = cn' - N'*lam;\n",
    "       \n",
    "        \n",
    "        x = zeros(5,1);\n",
    "        x(bi) = xb;\n",
    "        x(ni) = 0;\n",
    "        \n",
    "        fprintf('set %i, %i, %i is   feasible  %s  \\n', SB(1), SB(2), SB(3), num2str(x'));\n",
    "        \n",
    "        sn\n",
    "\n",
    "        plot(x(1),x(2),'*','MarkerSize',25);\n",
    "    end\n",
    "end"
   ]
  }
 ],
 "metadata": {
  "kernelspec": {
   "display_name": "Julia 0.5.0",
   "language": "julia",
   "name": "julia-0.5"
  },
  "language_info": {
   "file_extension": ".jl",
   "mimetype": "application/julia",
   "name": "julia",
   "version": "0.5.0"
  }
 },
 "nbformat": 4,
 "nbformat_minor": 1
}
