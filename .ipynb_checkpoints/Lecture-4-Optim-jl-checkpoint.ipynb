{
 "cells": [
  {
   "cell_type": "code",
   "execution_count": 1,
   "metadata": {
    "collapsed": true
   },
   "outputs": [],
   "source": [
    "using Plots\n",
    "using Optim"
   ]
  },
  {
   "cell_type": "code",
   "execution_count": 35,
   "metadata": {
    "collapsed": false
   },
   "outputs": [
    {
     "name": "stderr",
     "output_type": "stream",
     "text": [
      "WARNING: Method definition f(Any) in module Main at In[10]:3 overwritten at In[35]:3.\n",
      "WARNING: Method definition g!(Array{T<:Any, 1}, Array{T<:Any, 1}) in module Main at In[10]:6 overwritten at In[35]:6.\n"
     ]
    },
    {
     "data": {
      "text/plain": [
       "Results of Optimization Algorithm\n",
       " * Algorithm: L-BFGS\n",
       " * Starting Point: [0.0,0.0]\n",
       " * Minimizer: [1.0000000000000007,1.000000000000001]\n",
       " * Minimum: 0.000000\n",
       " * Iterations: 21\n",
       " * Convergence: true\n",
       "   * |x - x'| < 1.0e-32: false\n",
       "   * |f(x) - f(x')| / |f(x)| < 1.0e-08: true\n",
       "   * |g(x)| < 1.0e-08: true\n",
       "   * Reached Maximum Number of Iterations: false\n",
       " * Objective Function Calls: 90\n",
       " * Gradient Calls: 90"
      ]
     },
     "execution_count": 35,
     "metadata": {},
     "output_type": "execute_result"
    }
   ],
   "source": [
    "# example of Rosenbrock function\n",
    "function f(x) \n",
    "    return (1.0 - x[1])^2 + 100.0 * (x[2] - x[1]^2)^2\n",
    "end\n",
    "function g!(x::Vector, storage::Vector)\n",
    "storage[1] = -2.0 * (1.0 - x[1]) - 400.0 * (x[2] - x[1]^2) * x[1]\n",
    "storage[2] = 200.0 * (x[2] - x[1]^2)\n",
    "end\n",
    "\n",
    "soln = optimize(f, g!, [0.0, 0.0], LBFGS())\n"
   ]
  },
  {
   "cell_type": "code",
   "execution_count": 5,
   "metadata": {
    "collapsed": false
   },
   "outputs": [
    {
     "data": {
      "text/plain": [
       "15×1 Array{Float64,2}:\n",
       " -0.961733 \n",
       "  0.256498 \n",
       "  1.35844  \n",
       "  0.176834 \n",
       "  0.0325291\n",
       " -0.494308 \n",
       " -1.62881  \n",
       "  0.586711 \n",
       "  1.18127  \n",
       "  2.75914  \n",
       "  0.697867 \n",
       " -0.408102 \n",
       " -0.121016 \n",
       "  0.498591 \n",
       " -0.511114 "
      ]
     },
     "execution_count": 5,
     "metadata": {},
     "output_type": "execute_result"
    }
   ],
   "source": [
    "reshape(randn(5,3),15,1)"
   ]
  },
  {
   "cell_type": "code",
   "execution_count": 41,
   "metadata": {
    "collapsed": false
   },
   "outputs": [
    {
     "name": "stderr",
     "output_type": "stream",
     "text": [
      "WARNING: Method definition matrix_approx_function(Array{T<:Any, 1}, Array{T<:Any, 2}, Int64) in module Main at In[39]:6 overwritten at In[41]:6.\n",
      "WARNING: Method definition matrix_approx_gradient!(Array{T<:Any, 1}, Array{T<:Any, 1}, Array{T<:Any, 2}, Int64) in module Main at In[39]:13 overwritten at In[41]:13.\n"
     ]
    },
    {
     "data": {
      "text/plain": [
       "matrix_approx_gradient! (generic function with 1 method)"
      ]
     },
     "execution_count": 41,
     "metadata": {},
     "output_type": "execute_result"
    }
   ],
   "source": [
    "# now, we do the matrix factorization example\n",
    "# originally from Poblano example2\n",
    "\n",
    "function matrix_approx_function(x::Vector, A::Matrix, r::Int)\n",
    "    # unpack U and V from x\n",
    "    m,n = size(A)\n",
    "    U = reshape(x[1:m*r],m,r)\n",
    "    V = reshape(x[(m*r+1):end],n,r)\n",
    "    return 0.5*vecnorm(A - U*V')\n",
    "end\n",
    "\n",
    "function matrix_approx_gradient!(x::Vector, storage::Vector, A::Matrix, r::Int)\n",
    "    m,n = size(A)\n",
    "    U = reshape(x[1:m*r],m,r)\n",
    "    V = reshape(x[(m*r+1):end],n,r)\n",
    "    D = A - U*V'\n",
    "    storage[1:(m*r)] = -vec(D*V)\n",
    "    storage[(m*r+1):end] = -vec(D'*U)\n",
    "end\n"
   ]
  },
  {
   "cell_type": "code",
   "execution_count": 47,
   "metadata": {
    "collapsed": false
   },
   "outputs": [
    {
     "name": "stdout",
     "output_type": "stream",
     "text": [
      "search: optimize optimize_ticks OptimizationTrace OptimizationState\n",
      "\n"
     ]
    },
    {
     "data": {
      "text/markdown": [
       "No documentation found.\n",
       "\n",
       "`Optim.optimize` is a `Function`.\n",
       "\n",
       "```\n",
       "# 29 methods for generic function \"optimize\":\n",
       "optimize(d::Optim.DifferentiableFunction, initial_x::Array; method, xtol, ftol, grtol, iterations, store_trace, show_trace, extended_trace, show_every, callback) at /opt/julia_packages/.julia/v0.5/Optim/src/optimize.jl:85\n",
       "optimize{T}(d::Optim.DifferentiableFunction, initial_x::Array{T,N<:Any}, mo::Optim.GradientDescent, o::Optim.OptimizationOptions) at /opt/julia_packages/.julia/v0.5/Optim/src/gradient_descent.jl:35\n",
       "optimize{T}(d::Optim.DifferentiableFunction, initial_x::Array{T,1}, mo::Optim.AcceleratedGradientDescent, o::Optim.OptimizationOptions) at /opt/julia_packages/.julia/v0.5/Optim/src/accelerated_gradient_descent.jl:43\n",
       "optimize{T}(d::Optim.DifferentiableFunction, initial_x::Array{T,1}, mo::Optim.MomentumGradientDescent, o::Optim.OptimizationOptions) at /opt/julia_packages/.julia/v0.5/Optim/src/momentum_gradient_descent.jl:39\n",
       "optimize{T}(df::Optim.DifferentiableFunction, initial_x::Array{T,N<:Any}, cg::Optim.ConjugateGradient, o::Optim.OptimizationOptions) at /opt/julia_packages/.julia/v0.5/Optim/src/cg.jl:126\n",
       "optimize{T}(d::Optim.DifferentiableFunction, initial_x::Array{T,1}, mo::Optim.BFGS, o::Optim.OptimizationOptions; initial_invH) at /opt/julia_packages/.julia/v0.5/Optim/src/bfgs.jl:41\n",
       "optimize{T}(d::Optim.DifferentiableFunction, initial_x::Array{T,1}, mo::Optim.LBFGS, o::Optim.OptimizationOptions) at /opt/julia_packages/.julia/v0.5/Optim/src/l_bfgs.jl:96\n",
       "optimize{T<:AbstractFloat}(df::Optim.DifferentiableFunction, initial_x::Array{T,N<:Any}, l::Array{T,N<:Any}, u::Array{T,N<:Any}, ::Optim.Fminbox; xtol, ftol, grtol, iterations, store_trace, show_trace, extended_trace, callback, show_every, linesearch!, eta, mu0, mufactor, precondprep, optimizer, optimizer_o, nargs...) at /opt/julia_packages/.julia/v0.5/Optim/src/fminbox.jl:136\n",
       "optimize(d::Optim.DifferentiableFunction, initial_x::Array, method::Optim.Optimizer, options::Optim.OptimizationOptions) at /opt/julia_packages/.julia/v0.5/Optim/src/optimize.jl:157\n",
       "optimize{T}(d::Optim.TwiceDifferentiableFunction, initial_x::Array{T,1}, mo::Optim.Newton, o::Optim.OptimizationOptions) at /opt/julia_packages/.julia/v0.5/Optim/src/newton.jl:43\n",
       "optimize(d::Optim.TwiceDifferentiableFunction, initial_x::Array; method, xtol, ftol, grtol, iterations, store_trace, show_trace, extended_trace, show_every, callback) at /opt/julia_packages/.julia/v0.5/Optim/src/optimize.jl:106\n",
       "optimize(d::Optim.TwiceDifferentiableFunction, initial_x::Array, method::Optim.Optimizer, options::Optim.OptimizationOptions) at /opt/julia_packages/.julia/v0.5/Optim/src/optimize.jl:164\n",
       "optimize(f::Function, initial_x::Array; method, xtol, ftol, grtol, iterations, store_trace, show_trace, extended_trace, show_every, autodiff, callback) at /opt/julia_packages/.julia/v0.5/Optim/src/optimize.jl:18\n",
       "optimize(d::Function, initial_x::Array, method::Optim.Newton, options::Optim.OptimizationOptions) at /opt/julia_packages/.julia/v0.5/Optim/src/newton.jl:35\n",
       "optimize{T}(f::Function, initial_x::Array{T,1}, nm::Optim.NelderMead, o::Optim.OptimizationOptions; initial_step) at /opt/julia_packages/.julia/v0.5/Optim/src/nelder_mead.jl:58\n",
       "optimize{T}(cost::Function, initial_x::Array{T,N<:Any}, mo::Optim.SimulatedAnnealing, o::Optim.OptimizationOptions) at /opt/julia_packages/.julia/v0.5/Optim/src/simulated_annealing.jl:50\n",
       "optimize{T<:AbstractFloat}(f::Function, x_lower::T, x_upper::T, ::Optim.GoldenSection; iterations, store_trace, show_trace, show_every, extended_trace, rel_tol, abs_tol, callback, nargs...) at /opt/julia_packages/.julia/v0.5/Optim/src/golden_section.jl:36\n",
       "optimize{T<:AbstractFloat}(f::Function, x_lower::T, x_upper::T, ::Optim.Brent; iterations, store_trace, show_trace, show_every, extended_trace, rel_tol, abs_tol, callback) at /opt/julia_packages/.julia/v0.5/Optim/src/brent.jl:37\n",
       "optimize(f::Function, g!::Function, initial_x::Array; method, xtol, ftol, grtol, iterations, store_trace, show_trace, extended_trace, show_every, callback) at /opt/julia_packages/.julia/v0.5/Optim/src/optimize.jl:41\n",
       "optimize(f::Function, g!::Function, h!::Function, initial_x::Array; method, xtol, ftol, grtol, iterations, store_trace, show_trace, extended_trace, show_every, callback) at /opt/julia_packages/.julia/v0.5/Optim/src/optimize.jl:64\n",
       "optimize(f::Function, g!::Function, initial_x::Array, method::Optim.Optimizer) at /opt/julia_packages/.julia/v0.5/Optim/src/optimize.jl:127\n",
       "optimize(f::Function, g!::Function, initial_x::Array, method::Optim.Optimizer, options::Optim.OptimizationOptions) at /opt/julia_packages/.julia/v0.5/Optim/src/optimize.jl:127\n",
       "optimize(f::Function, g!::Function, h!::Function, initial_x::Array, method::Optim.Optimizer) at /opt/julia_packages/.julia/v0.5/Optim/src/optimize.jl:137\n",
       "optimize(f::Function, g!::Function, h!::Function, initial_x::Array, method::Optim.Optimizer, options::Optim.OptimizationOptions) at /opt/julia_packages/.julia/v0.5/Optim/src/optimize.jl:137\n",
       "optimize(f::Function, initial_x::Array, method::Optim.Optimizer, options::Optim.OptimizationOptions) at /opt/julia_packages/.julia/v0.5/Optim/src/optimize.jl:145\n",
       "optimize{T<:AbstractFloat}(f::Function, lower::T, upper::T; method, rel_tol, abs_tol, iterations, store_trace, show_trace, callback, show_every, extended_trace) at /opt/julia_packages/.julia/v0.5/Optim/src/optimize.jl:180\n",
       "optimize(f::Function, lower::Real, upper::Real; kwargs...) at /opt/julia_packages/.julia/v0.5/Optim/src/optimize.jl:203\n",
       "optimize(d, initial_x::Array, method::Optim.Optimizer) at /opt/julia_packages/.julia/v0.5/Optim/src/optimize.jl:119\n",
       "optimize(d, initial_x::Array, method::Optim.Optimizer, options::Optim.OptimizationOptions) at /opt/julia_packages/.julia/v0.5/Optim/src/optimize.jl:119\n",
       "```\n"
      ],
      "text/plain": [
       "No documentation found.\n",
       "\n",
       "`Optim.optimize` is a `Function`.\n",
       "\n",
       "```\n",
       "# 29 methods for generic function \"optimize\":\n",
       "optimize(d::Optim.DifferentiableFunction, initial_x::Array; method, xtol, ftol, grtol, iterations, store_trace, show_trace, extended_trace, show_every, callback) at /opt/julia_packages/.julia/v0.5/Optim/src/optimize.jl:85\n",
       "optimize{T}(d::Optim.DifferentiableFunction, initial_x::Array{T,N<:Any}, mo::Optim.GradientDescent, o::Optim.OptimizationOptions) at /opt/julia_packages/.julia/v0.5/Optim/src/gradient_descent.jl:35\n",
       "optimize{T}(d::Optim.DifferentiableFunction, initial_x::Array{T,1}, mo::Optim.AcceleratedGradientDescent, o::Optim.OptimizationOptions) at /opt/julia_packages/.julia/v0.5/Optim/src/accelerated_gradient_descent.jl:43\n",
       "optimize{T}(d::Optim.DifferentiableFunction, initial_x::Array{T,1}, mo::Optim.MomentumGradientDescent, o::Optim.OptimizationOptions) at /opt/julia_packages/.julia/v0.5/Optim/src/momentum_gradient_descent.jl:39\n",
       "optimize{T}(df::Optim.DifferentiableFunction, initial_x::Array{T,N<:Any}, cg::Optim.ConjugateGradient, o::Optim.OptimizationOptions) at /opt/julia_packages/.julia/v0.5/Optim/src/cg.jl:126\n",
       "optimize{T}(d::Optim.DifferentiableFunction, initial_x::Array{T,1}, mo::Optim.BFGS, o::Optim.OptimizationOptions; initial_invH) at /opt/julia_packages/.julia/v0.5/Optim/src/bfgs.jl:41\n",
       "optimize{T}(d::Optim.DifferentiableFunction, initial_x::Array{T,1}, mo::Optim.LBFGS, o::Optim.OptimizationOptions) at /opt/julia_packages/.julia/v0.5/Optim/src/l_bfgs.jl:96\n",
       "optimize{T<:AbstractFloat}(df::Optim.DifferentiableFunction, initial_x::Array{T,N<:Any}, l::Array{T,N<:Any}, u::Array{T,N<:Any}, ::Optim.Fminbox; xtol, ftol, grtol, iterations, store_trace, show_trace, extended_trace, callback, show_every, linesearch!, eta, mu0, mufactor, precondprep, optimizer, optimizer_o, nargs...) at /opt/julia_packages/.julia/v0.5/Optim/src/fminbox.jl:136\n",
       "optimize(d::Optim.DifferentiableFunction, initial_x::Array, method::Optim.Optimizer, options::Optim.OptimizationOptions) at /opt/julia_packages/.julia/v0.5/Optim/src/optimize.jl:157\n",
       "optimize{T}(d::Optim.TwiceDifferentiableFunction, initial_x::Array{T,1}, mo::Optim.Newton, o::Optim.OptimizationOptions) at /opt/julia_packages/.julia/v0.5/Optim/src/newton.jl:43\n",
       "optimize(d::Optim.TwiceDifferentiableFunction, initial_x::Array; method, xtol, ftol, grtol, iterations, store_trace, show_trace, extended_trace, show_every, callback) at /opt/julia_packages/.julia/v0.5/Optim/src/optimize.jl:106\n",
       "optimize(d::Optim.TwiceDifferentiableFunction, initial_x::Array, method::Optim.Optimizer, options::Optim.OptimizationOptions) at /opt/julia_packages/.julia/v0.5/Optim/src/optimize.jl:164\n",
       "optimize(f::Function, initial_x::Array; method, xtol, ftol, grtol, iterations, store_trace, show_trace, extended_trace, show_every, autodiff, callback) at /opt/julia_packages/.julia/v0.5/Optim/src/optimize.jl:18\n",
       "optimize(d::Function, initial_x::Array, method::Optim.Newton, options::Optim.OptimizationOptions) at /opt/julia_packages/.julia/v0.5/Optim/src/newton.jl:35\n",
       "optimize{T}(f::Function, initial_x::Array{T,1}, nm::Optim.NelderMead, o::Optim.OptimizationOptions; initial_step) at /opt/julia_packages/.julia/v0.5/Optim/src/nelder_mead.jl:58\n",
       "optimize{T}(cost::Function, initial_x::Array{T,N<:Any}, mo::Optim.SimulatedAnnealing, o::Optim.OptimizationOptions) at /opt/julia_packages/.julia/v0.5/Optim/src/simulated_annealing.jl:50\n",
       "optimize{T<:AbstractFloat}(f::Function, x_lower::T, x_upper::T, ::Optim.GoldenSection; iterations, store_trace, show_trace, show_every, extended_trace, rel_tol, abs_tol, callback, nargs...) at /opt/julia_packages/.julia/v0.5/Optim/src/golden_section.jl:36\n",
       "optimize{T<:AbstractFloat}(f::Function, x_lower::T, x_upper::T, ::Optim.Brent; iterations, store_trace, show_trace, show_every, extended_trace, rel_tol, abs_tol, callback) at /opt/julia_packages/.julia/v0.5/Optim/src/brent.jl:37\n",
       "optimize(f::Function, g!::Function, initial_x::Array; method, xtol, ftol, grtol, iterations, store_trace, show_trace, extended_trace, show_every, callback) at /opt/julia_packages/.julia/v0.5/Optim/src/optimize.jl:41\n",
       "optimize(f::Function, g!::Function, h!::Function, initial_x::Array; method, xtol, ftol, grtol, iterations, store_trace, show_trace, extended_trace, show_every, callback) at /opt/julia_packages/.julia/v0.5/Optim/src/optimize.jl:64\n",
       "optimize(f::Function, g!::Function, initial_x::Array, method::Optim.Optimizer) at /opt/julia_packages/.julia/v0.5/Optim/src/optimize.jl:127\n",
       "optimize(f::Function, g!::Function, initial_x::Array, method::Optim.Optimizer, options::Optim.OptimizationOptions) at /opt/julia_packages/.julia/v0.5/Optim/src/optimize.jl:127\n",
       "optimize(f::Function, g!::Function, h!::Function, initial_x::Array, method::Optim.Optimizer) at /opt/julia_packages/.julia/v0.5/Optim/src/optimize.jl:137\n",
       "optimize(f::Function, g!::Function, h!::Function, initial_x::Array, method::Optim.Optimizer, options::Optim.OptimizationOptions) at /opt/julia_packages/.julia/v0.5/Optim/src/optimize.jl:137\n",
       "optimize(f::Function, initial_x::Array, method::Optim.Optimizer, options::Optim.OptimizationOptions) at /opt/julia_packages/.julia/v0.5/Optim/src/optimize.jl:145\n",
       "optimize{T<:AbstractFloat}(f::Function, lower::T, upper::T; method, rel_tol, abs_tol, iterations, store_trace, show_trace, callback, show_every, extended_trace) at /opt/julia_packages/.julia/v0.5/Optim/src/optimize.jl:180\n",
       "optimize(f::Function, lower::Real, upper::Real; kwargs...) at /opt/julia_packages/.julia/v0.5/Optim/src/optimize.jl:203\n",
       "optimize(d, initial_x::Array, method::Optim.Optimizer) at /opt/julia_packages/.julia/v0.5/Optim/src/optimize.jl:119\n",
       "optimize(d, initial_x::Array, method::Optim.Optimizer, options::Optim.OptimizationOptions) at /opt/julia_packages/.julia/v0.5/Optim/src/optimize.jl:119\n",
       "```\n"
      ]
     },
     "execution_count": 47,
     "metadata": {},
     "output_type": "execute_result"
    }
   ],
   "source": [
    "?optimize"
   ]
  },
  {
   "cell_type": "code",
   "execution_count": 49,
   "metadata": {
    "collapsed": false
   },
   "outputs": [
    {
     "name": "stdout",
     "output_type": "stream",
     "text": [
      "search: OptimizationOptions\n",
      "\n"
     ]
    },
    {
     "data": {
      "text/markdown": [
       "No documentation found.\n",
       "\n",
       "**Summary:**\n",
       "\n",
       "```\n",
       "immutable Optim.OptimizationOptions{TCallback<:Union{Function,Void}} <: Any\n",
       "```\n",
       "\n",
       "**Fields:**\n",
       "\n",
       "```\n",
       "xtol           :: Float64\n",
       "ftol           :: Float64\n",
       "grtol          :: Float64\n",
       "iterations     :: Int64\n",
       "store_trace    :: Bool\n",
       "show_trace     :: Bool\n",
       "extended_trace :: Bool\n",
       "autodiff       :: Bool\n",
       "show_every     :: Int64\n",
       "callback       :: TCallback<:Union{Function,Void}\n",
       "```\n"
      ],
      "text/plain": [
       "No documentation found.\n",
       "\n",
       "**Summary:**\n",
       "\n",
       "```\n",
       "immutable Optim.OptimizationOptions{TCallback<:Union{Function,Void}} <: Any\n",
       "```\n",
       "\n",
       "**Fields:**\n",
       "\n",
       "```\n",
       "xtol           :: Float64\n",
       "ftol           :: Float64\n",
       "grtol          :: Float64\n",
       "iterations     :: Int64\n",
       "store_trace    :: Bool\n",
       "show_trace     :: Bool\n",
       "extended_trace :: Bool\n",
       "autodiff       :: Bool\n",
       "show_every     :: Int64\n",
       "callback       :: TCallback<:Union{Function,Void}\n",
       "```\n"
      ]
     },
     "execution_count": 49,
     "metadata": {},
     "output_type": "execute_result"
    }
   ],
   "source": [
    "?OptimizationOptions"
   ]
  },
  {
   "cell_type": "code",
   "execution_count": 54,
   "metadata": {
    "collapsed": false
   },
   "outputs": [
    {
     "name": "stdout",
     "output_type": "stream",
     "text": [
      "soln = Results of Optimization Algorithm\n",
      " * Algorithm: L-BFGS\n",
      " * Starting Point: [1.025768020262662,1.7373559569835082, ...]\n",
      " * Minimizer: [-0.2692364378685741,1.808908598076151, ...]\n",
      " * Minimum: 0.825548\n",
      " * Iterations: 49\n",
      " * Convergence: true\n",
      "   * |x - x'| < 1.0e-32: false\n",
      "   * |f(x) - f(x')| / |f(x)| < 1.0e-08: true\n",
      "   * |g(x)| < 1.0e-08: false\n",
      "   * Reached Maximum Number of Iterations: false\n",
      " * Objective Function Calls: 183\n",
      " * Gradient Calls: 183\n",
      "objval = 1.6510966810998684\n",
      "opterr = 1.6510966810998684\n",
      "svderr = 1.6510966698289107\n"
     ]
    }
   ],
   "source": [
    "m = 5\n",
    "n = 4\n",
    "A = randn(m,n)\n",
    "r = 2\n",
    "myf = x -> matrix_approx_function(x, A, r)\n",
    "myg! = (x, storage) -> matrix_approx_gradient!(x, storage, A, r)\n",
    "\n",
    "#soln = optimize(myf, myg!, randn(m*r+n*r), LBFGS(), Optim.Options(f_tol = 1e-8))\n",
    "soln = optimize(myf, myg!, randn(m*r+n*r), LBFGS(), OptimizationOptions(ftol = 1e-8))\n",
    "x = Optim.minimizer(soln)\n",
    "@show soln\n",
    "Uopt = reshape(x[1:m*r],m,r)\n",
    "Vopt = reshape(x[(m*r+1):end],n,r)\n",
    "objval = 2*myf(x)\n",
    "opterr = vecnorm(A-Uopt*Vopt')\n",
    "\n",
    "Usvd,Ssvd,Vsvd = svd(A)\n",
    "svderr = vecnorm(A-Usvd[:,1:r]*diagm(Ssvd[1:r])*Vsvd[:,1:r]')\n",
    "@show objval\n",
    "@show opterr\n",
    "@show svderr\n",
    "; # hide final output in JuliaBox"
   ]
  }
 ],
 "metadata": {
  "kernelspec": {
   "display_name": "Julia 0.5.0",
   "language": "julia",
   "name": "julia-0.5"
  },
  "language_info": {
   "file_extension": ".jl",
   "mimetype": "application/julia",
   "name": "julia",
   "version": "0.5.0"
  }
 },
 "nbformat": 4,
 "nbformat_minor": 1
}
