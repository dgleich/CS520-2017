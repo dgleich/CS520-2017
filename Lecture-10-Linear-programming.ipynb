{
 "cells": [
  {
   "cell_type": "code",
   "execution_count": 1,
   "metadata": {
    "collapsed": true
   },
   "outputs": [],
   "source": [
    "using MathProgBase"
   ]
  },
  {
   "cell_type": "code",
   "execution_count": 2,
   "metadata": {
    "collapsed": false
   },
   "outputs": [],
   "source": [
    "# examples from http://mathprogbasejl.readthedocs.io/en/latest/linprog.html"
   ]
  },
  {
   "cell_type": "code",
   "execution_count": 8,
   "metadata": {
    "collapsed": false
   },
   "outputs": [
    {
     "data": {
      "text/html": [
       "4 methods for generic function <b>linprog</b>:<ul><li> linprog(c::<b>Union{Array{T<:Union{Char,Real},1},Char,Real}</b>, A::<b>AbstractArray{T<:Any,2}</b>, rowlb::<b>Union{Array{T<:Union{Char,Real},1},Char,Real}</b>, rowub::<b>Union{Array{T<:Union{Char,Real},1},Char,Real}</b>, lb::<b>Union{Array{T<:Union{Char,Real},1},Char,Real}</b>, ub::<b>Union{Array{T<:Union{Char,Real},1},Char,Real}</b>) at <a href=\"https://github.com/JuliaOpt/MathProgBase.jl/tree/0ae3dc86f8d2f9e9f8abff5643ff00da3fa0a634/src/HighLevelInterface/linprog.jl#L95\" target=\"_blank\">/opt/julia_packages/.julia/v0.5/MathProgBase/src/HighLevelInterface/linprog.jl:95</a></li> <li> linprog(c::<b>Union{Array{T<:Union{Char,Real},1},Char,Real}</b>, A::<b>AbstractArray{T<:Any,2}</b>, rowlb::<b>Union{Array{T<:Union{Char,Real},1},Char,Real}</b>, rowub::<b>Union{Array{T<:Union{Char,Real},1},Char,Real}</b>, lb::<b>Union{Array{T<:Union{Char,Real},1},Char,Real}</b>, ub::<b>Union{Array{T<:Union{Char,Real},1},Char,Real}</b>, solver::<b>MathProgBase.SolverInterface.AbstractMathProgSolver</b>) at <a href=\"https://github.com/JuliaOpt/MathProgBase.jl/tree/0ae3dc86f8d2f9e9f8abff5643ff00da3fa0a634/src/HighLevelInterface/linprog.jl#L95\" target=\"_blank\">/opt/julia_packages/.julia/v0.5/MathProgBase/src/HighLevelInterface/linprog.jl:95</a></li> <li> linprog(c, A, rowlb, rowub) at <a href=\"https://github.com/JuliaOpt/MathProgBase.jl/tree/0ae3dc86f8d2f9e9f8abff5643ff00da3fa0a634/src/HighLevelInterface/linprog.jl#L99\" target=\"_blank\">/opt/julia_packages/.julia/v0.5/MathProgBase/src/HighLevelInterface/linprog.jl:99</a></li> <li> linprog(c, A, rowlb, rowub, solver::<b>MathProgBase.SolverInterface.AbstractMathProgSolver</b>) at <a href=\"https://github.com/JuliaOpt/MathProgBase.jl/tree/0ae3dc86f8d2f9e9f8abff5643ff00da3fa0a634/src/HighLevelInterface/linprog.jl#L99\" target=\"_blank\">/opt/julia_packages/.julia/v0.5/MathProgBase/src/HighLevelInterface/linprog.jl:99</a></li> </ul>"
      ],
      "text/plain": [
       "# 4 methods for generic function \"linprog\":\n",
       "linprog(c::Union{Array{T<:Union{Char,Real},1},Char,Real}, A::AbstractArray{T<:Any,2}, rowlb::Union{Array{T<:Union{Char,Real},1},Char,Real}, rowub::Union{Array{T<:Union{Char,Real},1},Char,Real}, lb::Union{Array{T<:Union{Char,Real},1},Char,Real}, ub::Union{Array{T<:Union{Char,Real},1},Char,Real}) at /opt/julia_packages/.julia/v0.5/MathProgBase/src/HighLevelInterface/linprog.jl:95\n",
       "linprog(c::Union{Array{T<:Union{Char,Real},1},Char,Real}, A::AbstractArray{T<:Any,2}, rowlb::Union{Array{T<:Union{Char,Real},1},Char,Real}, rowub::Union{Array{T<:Union{Char,Real},1},Char,Real}, lb::Union{Array{T<:Union{Char,Real},1},Char,Real}, ub::Union{Array{T<:Union{Char,Real},1},Char,Real}, solver::MathProgBase.SolverInterface.AbstractMathProgSolver) at /opt/julia_packages/.julia/v0.5/MathProgBase/src/HighLevelInterface/linprog.jl:95\n",
       "linprog(c, A, rowlb, rowub) at /opt/julia_packages/.julia/v0.5/MathProgBase/src/HighLevelInterface/linprog.jl:99\n",
       "linprog(c, A, rowlb, rowub, solver::MathProgBase.SolverInterface.AbstractMathProgSolver) at /opt/julia_packages/.julia/v0.5/MathProgBase/src/HighLevelInterface/linprog.jl:99"
      ]
     },
     "execution_count": 8,
     "metadata": {},
     "output_type": "execute_result"
    }
   ],
   "source": [
    "methods(linprog)"
   ]
  },
  {
   "cell_type": "markdown",
   "metadata": {},
   "source": [
    "\\begin{split}\\min_{x,y}\\quad &-x\\\\\n",
    "s.t. \\quad        &2x + y \\leq 1.5\\\\\n",
    "             & x \\geq 0, y \\geq 0\\end{split}"
   ]
  },
  {
   "cell_type": "markdown",
   "metadata": {},
   "source": [
    "### Form 1\n",
    "```julia\n",
    "linprog(c, A, lb, ub, l, u)\n",
    "```\n",
    "\\begin{split}\\min_{x}\\quad &c^Tx\\\\\n",
    "s.t.\\quad    &lb \\leq Ax \\leq ub\\\\\n",
    "         &l \\leq x \\leq u\\\\\\end{split}\n"
   ]
  },
  {
   "cell_type": "code",
   "execution_count": 3,
   "metadata": {
    "collapsed": false
   },
   "outputs": [
    {
     "data": {
      "text/plain": [
       "MathProgBase.HighLevelInterface.LinprogSolution(:Optimal,-0.75,[0.75,0.0],Dict{Any,Any}(Pair{Any,Any}(:redcost,[0.0,0.5]),Pair{Any,Any}(:lambda,[-0.5])))"
      ]
     },
     "execution_count": 3,
     "metadata": {},
     "output_type": "execute_result"
    }
   ],
   "source": [
    "sol = linprog([-1,0],[2 1],-Inf,1.5,0,Inf)"
   ]
  },
  {
   "cell_type": "markdown",
   "metadata": {},
   "source": [
    "#### Form 1'\n",
    "(shortcut with implicit [0,Inf] constraints)"
   ]
  },
  {
   "cell_type": "code",
   "execution_count": 6,
   "metadata": {
    "collapsed": false
   },
   "outputs": [
    {
     "data": {
      "text/plain": [
       "MathProgBase.HighLevelInterface.LinprogSolution(:Optimal,-0.75,[0.75,0.0],Dict{Any,Any}(Pair{Any,Any}(:redcost,[0.0,0.5]),Pair{Any,Any}(:lambda,[-0.5])))"
      ]
     },
     "execution_count": 6,
     "metadata": {},
     "output_type": "execute_result"
    }
   ],
   "source": [
    "sol = linprog([-1,0],[2 1],-Inf,1.5)"
   ]
  },
  {
   "cell_type": "markdown",
   "metadata": {},
   "source": [
    "### Form 2\n",
    "```julia\n",
    "linprog(c, A, sense, b, l, u)\n",
    "```\n",
    "\\begin{split}\\min_{x}\\quad &c^Tx\\\\\n",
    "s.t. \\quad     &a_i^Tx \\text{ sense}_i \\, b_i \\forall\\,\\, i\\\\\n",
    "         &l \\leq x \\leq u\\\\\\end{split}"
   ]
  },
  {
   "cell_type": "code",
   "execution_count": 13,
   "metadata": {
    "collapsed": false
   },
   "outputs": [
    {
     "data": {
      "text/plain": [
       "MathProgBase.HighLevelInterface.LinprogSolution(:Optimal,-0.75,[0.75,0.0],Dict{Any,Any}(Pair{Any,Any}(:redcost,[0.0,0.5]),Pair{Any,Any}(:lambda,[-0.5])))"
      ]
     },
     "execution_count": 13,
     "metadata": {},
     "output_type": "execute_result"
    }
   ],
   "source": [
    "sol = linprog([-1,0],[2 1],'<',1.5)"
   ]
  },
  {
   "cell_type": "code",
   "execution_count": 10,
   "metadata": {
    "collapsed": false
   },
   "outputs": [
    {
     "data": {
      "text/plain": [
       "MathProgBase.HighLevelInterface.LinprogSolution(:Optimal,-0.75,[0.75,0.0],Dict{Any,Any}(Pair{Any,Any}(:redcost,[0.0,0.5]),Pair{Any,Any}(:lambda,[-0.5,0.0])))"
      ]
     },
     "execution_count": 10,
     "metadata": {},
     "output_type": "execute_result"
    }
   ],
   "source": [
    "sol = linprog([-1,0],[2 1; 1 0],['<','>'],[1.5; 0.25])"
   ]
  }
 ],
 "metadata": {
  "kernelspec": {
   "display_name": "Julia 0.5.0",
   "language": "julia",
   "name": "julia-0.5"
  },
  "language_info": {
   "file_extension": ".jl",
   "mimetype": "application/julia",
   "name": "julia",
   "version": "0.5.0"
  }
 },
 "nbformat": 4,
 "nbformat_minor": 1
}
